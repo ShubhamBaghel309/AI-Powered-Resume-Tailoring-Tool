{
 "cells": [
  {
   "cell_type": "code",
   "execution_count": 7,
   "id": "d7c6c12d-9fcb-4d75-abb0-5bcfdd6646dc",
   "metadata": {},
   "outputs": [],
   "source": [
    "resume_skills=['Machine Learning',\n",
    " 'Microsoft Azure',\n",
    " 'Python Programming',\n",
    " 'Python',\n",
    " 'C-programming',\n",
    " 'Django',\n",
    " 'SQL',\n",
    " 'Data structures in C',\n",
    " 'Java programming']"
   ]
  },
  {
   "cell_type": "code",
   "execution_count": 15,
   "id": "b330868b-8e37-42e3-8215-70397d83b62e",
   "metadata": {},
   "outputs": [],
   "source": [
    "job_skills=['Java', 'Spring Boot', 'MySQL']"
   ]
  },
  {
   "cell_type": "code",
   "execution_count": 1,
   "id": "8bc28bb5-79d9-4f2c-b999-3f69164b9f74",
   "metadata": {},
   "outputs": [
    {
     "name": "stderr",
     "output_type": "stream",
     "text": [
      "C:\\Users\\deshr\\AppData\\Local\\Programs\\Python\\Python312\\Lib\\site-packages\\sentence_transformers\\cross_encoder\\CrossEncoder.py:13: TqdmExperimentalWarning: Using `tqdm.autonotebook.tqdm` in notebook mode. Use `tqdm.tqdm` instead to force console mode (e.g. in jupyter console)\n",
      "  from tqdm.autonotebook import tqdm, trange\n"
     ]
    },
    {
     "name": "stdout",
     "output_type": "stream",
     "text": [
      "WARNING:tensorflow:From C:\\Users\\deshr\\AppData\\Local\\Programs\\Python\\Python312\\Lib\\site-packages\\tf_keras\\src\\losses.py:2976: The name tf.losses.sparse_softmax_cross_entropy is deprecated. Please use tf.compat.v1.losses.sparse_softmax_cross_entropy instead.\n",
      "\n"
     ]
    }
   ],
   "source": [
    "from sentence_transformers import SentenceTransformer\n",
    "from sklearn.metrics.pairwise import cosine_similarity\n"
   ]
  },
  {
   "cell_type": "code",
   "execution_count": 5,
   "id": "2661ba85-6101-4f9d-9832-9b98db53f805",
   "metadata": {},
   "outputs": [
    {
     "data": {
      "application/vnd.jupyter.widget-view+json": {
       "model_id": "b736389c49e94a4a8673c2d7a912bdc8",
       "version_major": 2,
       "version_minor": 0
      },
      "text/plain": [
       "modules.json:   0%|          | 0.00/229 [00:00<?, ?B/s]"
      ]
     },
     "metadata": {},
     "output_type": "display_data"
    },
    {
     "name": "stderr",
     "output_type": "stream",
     "text": [
      "C:\\Users\\deshr\\AppData\\Local\\Programs\\Python\\Python312\\Lib\\site-packages\\huggingface_hub\\file_download.py:159: UserWarning: `huggingface_hub` cache-system uses symlinks by default to efficiently store duplicated files but your machine does not support them in C:\\Users\\deshr\\.cache\\huggingface\\hub\\models--sentence-transformers--paraphrase-MiniLM-L6-v2. Caching files will still work but in a degraded version that might require more space on your disk. This warning can be disabled by setting the `HF_HUB_DISABLE_SYMLINKS_WARNING` environment variable. For more details, see https://huggingface.co/docs/huggingface_hub/how-to-cache#limitations.\n",
      "To support symlinks on Windows, you either need to activate Developer Mode or to run Python as an administrator. In order to see activate developer mode, see this article: https://docs.microsoft.com/en-us/windows/apps/get-started/enable-your-device-for-development\n",
      "  warnings.warn(message)\n"
     ]
    },
    {
     "data": {
      "application/vnd.jupyter.widget-view+json": {
       "model_id": "7f58b87e36ed4ecb8126ea76cf807274",
       "version_major": 2,
       "version_minor": 0
      },
      "text/plain": [
       "config_sentence_transformers.json:   0%|          | 0.00/122 [00:00<?, ?B/s]"
      ]
     },
     "metadata": {},
     "output_type": "display_data"
    },
    {
     "data": {
      "application/vnd.jupyter.widget-view+json": {
       "model_id": "47fbc7fd013a45ff94b9af3f83a4c4dc",
       "version_major": 2,
       "version_minor": 0
      },
      "text/plain": [
       "README.md:   0%|          | 0.00/3.73k [00:00<?, ?B/s]"
      ]
     },
     "metadata": {},
     "output_type": "display_data"
    },
    {
     "data": {
      "application/vnd.jupyter.widget-view+json": {
       "model_id": "8b3908a9afd643aab47a60e2a7510e60",
       "version_major": 2,
       "version_minor": 0
      },
      "text/plain": [
       "sentence_bert_config.json:   0%|          | 0.00/53.0 [00:00<?, ?B/s]"
      ]
     },
     "metadata": {},
     "output_type": "display_data"
    },
    {
     "data": {
      "application/vnd.jupyter.widget-view+json": {
       "model_id": "63a610aa9dde4009bb52a403d093ef02",
       "version_major": 2,
       "version_minor": 0
      },
      "text/plain": [
       "config.json:   0%|          | 0.00/629 [00:00<?, ?B/s]"
      ]
     },
     "metadata": {},
     "output_type": "display_data"
    },
    {
     "data": {
      "application/vnd.jupyter.widget-view+json": {
       "model_id": "1316e361958244e791da3241282c5025",
       "version_major": 2,
       "version_minor": 0
      },
      "text/plain": [
       "model.safetensors:   0%|          | 0.00/90.9M [00:00<?, ?B/s]"
      ]
     },
     "metadata": {},
     "output_type": "display_data"
    },
    {
     "data": {
      "application/vnd.jupyter.widget-view+json": {
       "model_id": "7d431371c61e4fb1a9c16632ca96d349",
       "version_major": 2,
       "version_minor": 0
      },
      "text/plain": [
       "tokenizer_config.json:   0%|          | 0.00/314 [00:00<?, ?B/s]"
      ]
     },
     "metadata": {},
     "output_type": "display_data"
    },
    {
     "data": {
      "application/vnd.jupyter.widget-view+json": {
       "model_id": "dbcc6c9cdcbd4b11a8c299e8fdd064c6",
       "version_major": 2,
       "version_minor": 0
      },
      "text/plain": [
       "vocab.txt:   0%|          | 0.00/232k [00:00<?, ?B/s]"
      ]
     },
     "metadata": {},
     "output_type": "display_data"
    },
    {
     "data": {
      "application/vnd.jupyter.widget-view+json": {
       "model_id": "37f36c2b19cd44d9a606f8c7547ad349",
       "version_major": 2,
       "version_minor": 0
      },
      "text/plain": [
       "tokenizer.json:   0%|          | 0.00/466k [00:00<?, ?B/s]"
      ]
     },
     "metadata": {},
     "output_type": "display_data"
    },
    {
     "data": {
      "application/vnd.jupyter.widget-view+json": {
       "model_id": "07da460e3ed549b98ea6b49e0e8e32e0",
       "version_major": 2,
       "version_minor": 0
      },
      "text/plain": [
       "special_tokens_map.json:   0%|          | 0.00/112 [00:00<?, ?B/s]"
      ]
     },
     "metadata": {},
     "output_type": "display_data"
    },
    {
     "name": "stderr",
     "output_type": "stream",
     "text": [
      "C:\\Users\\deshr\\AppData\\Local\\Programs\\Python\\Python312\\Lib\\site-packages\\transformers\\tokenization_utils_base.py:1617: FutureWarning: `clean_up_tokenization_spaces` was not set. It will be set to `True` by default. This behavior will be deprecated in transformers v4.45, and will be then set to `False` by default. For more details check this issue: https://github.com/huggingface/transformers/issues/31884\n",
      "  warnings.warn(\n"
     ]
    },
    {
     "data": {
      "application/vnd.jupyter.widget-view+json": {
       "model_id": "7013a5acf6bc493497e86c80928f2e85",
       "version_major": 2,
       "version_minor": 0
      },
      "text/plain": [
       "1_Pooling/config.json:   0%|          | 0.00/190 [00:00<?, ?B/s]"
      ]
     },
     "metadata": {},
     "output_type": "display_data"
    },
    {
     "name": "stdout",
     "output_type": "stream",
     "text": [
      "\n",
      "Matched Skills:\n",
      "Java -> Java (Similarity: 1.00)\n",
      "\n",
      "Missing Skills:\n",
      "- Spring Boot\n",
      "- MySQL\n"
     ]
    }
   ],
   "source": [
    "\n",
    "def match_skills(job_skills, resume_skills, threshold=0.6):\n",
    "    # Initialize the model\n",
    "    model = SentenceTransformer('paraphrase-MiniLM-L6-v2')\n",
    "    \n",
    "    # Generate embeddings\n",
    "    job_embeddings = model.encode(job_skills)\n",
    "    resume_embeddings = model.encode(resume_skills)\n",
    "    \n",
    "    # Calculate similarity matrix\n",
    "    similarity_matrix = cosine_similarity(job_embeddings, resume_embeddings)\n",
    "    \n",
    "    # Match skills\n",
    "    matches = []\n",
    "    missing_skills = []\n",
    "    \n",
    "    for i, job_skill in enumerate(job_skills):\n",
    "        # Find best matching resume skill\n",
    "        best_match_idx = similarity_matrix[i].argmax()\n",
    "        best_match_score = similarity_matrix[i][best_match_idx]\n",
    "        \n",
    "        if best_match_score >= threshold:\n",
    "            matches.append({\n",
    "                'job_skill': job_skill,\n",
    "                'resume_skill': resume_skills[best_match_idx],\n",
    "                'similarity': best_match_score\n",
    "            })\n",
    "        else:\n",
    "            missing_skills.append(job_skill)\n",
    "    \n",
    "    return {\n",
    "        'matches': matches,\n",
    "        'missing_skills': missing_skills\n",
    "    }\n"
   ]
  },
  {
   "cell_type": "code",
   "execution_count": 16,
   "id": "dcb325a6-fcb6-40e4-978e-496ee8e2a211",
   "metadata": {},
   "outputs": [
    {
     "name": "stderr",
     "output_type": "stream",
     "text": [
      "C:\\Users\\deshr\\AppData\\Local\\Programs\\Python\\Python312\\Lib\\site-packages\\transformers\\tokenization_utils_base.py:1617: FutureWarning: `clean_up_tokenization_spaces` was not set. It will be set to `True` by default. This behavior will be deprecated in transformers v4.45, and will be then set to `False` by default. For more details check this issue: https://github.com/huggingface/transformers/issues/31884\n",
      "  warnings.warn(\n"
     ]
    },
    {
     "name": "stdout",
     "output_type": "stream",
     "text": [
      "\n",
      "Matched Skills:\n",
      "Java -> Java programming (Similarity: 0.84)\n",
      "C -> C-programming (Similarity: 0.77)\n",
      "Azure -> Microsoft Azure (Similarity: 0.88)\n",
      "\n",
      "Missing Skills:\n",
      "- Spring Boot\n",
      "- MySQL\n",
      "- Ml\n"
     ]
    }
   ],
   "source": [
    "\n",
    "# Example usage\n",
    "results = match_skills(job_skills, resume_skills)\n",
    "print(\"\\nMatched Skills:\")\n",
    "for match in results['matches']:\n",
    "    print(f\"{match['job_skill']} -> {match['resume_skill']} (Similarity: {match['similarity']:.2f})\")\n",
    "\n",
    "print(\"\\nMissing Skills:\")\n",
    "for skill in results['missing_skills']:\n",
    "    print(f\"- {skill}\")"
   ]
  },
  {
   "cell_type": "code",
   "execution_count": null,
   "id": "3ca2a33b-1bae-4ae9-90b2-3250c6a157f7",
   "metadata": {},
   "outputs": [],
   "source": []
  },
  {
   "cell_type": "code",
   "execution_count": 7,
   "id": "5dc3296c-94bf-4e03-b224-30194e5b05f3",
   "metadata": {},
   "outputs": [
    {
     "name": "stdout",
     "output_type": "stream",
     "text": [
      "Collecting tf-keras\n",
      "  Downloading tf_keras-2.18.0-py3-none-any.whl.metadata (1.6 kB)\n",
      "Collecting tensorflow<2.19,>=2.18 (from tf-keras)\n",
      "  Downloading tensorflow-2.18.0-cp312-cp312-win_amd64.whl.metadata (3.3 kB)\n",
      "Collecting tensorflow-intel==2.18.0 (from tensorflow<2.19,>=2.18->tf-keras)\n",
      "  Downloading tensorflow_intel-2.18.0-cp312-cp312-win_amd64.whl.metadata (4.9 kB)\n",
      "Requirement already satisfied: absl-py>=1.0.0 in c:\\users\\deshr\\appdata\\local\\programs\\python\\python312\\lib\\site-packages (from tensorflow-intel==2.18.0->tensorflow<2.19,>=2.18->tf-keras) (2.1.0)\n",
      "Requirement already satisfied: astunparse>=1.6.0 in c:\\users\\deshr\\appdata\\local\\programs\\python\\python312\\lib\\site-packages (from tensorflow-intel==2.18.0->tensorflow<2.19,>=2.18->tf-keras) (1.6.3)\n",
      "Requirement already satisfied: flatbuffers>=24.3.25 in c:\\users\\deshr\\appdata\\local\\programs\\python\\python312\\lib\\site-packages (from tensorflow-intel==2.18.0->tensorflow<2.19,>=2.18->tf-keras) (24.3.25)\n",
      "Requirement already satisfied: gast!=0.5.0,!=0.5.1,!=0.5.2,>=0.2.1 in c:\\users\\deshr\\appdata\\local\\programs\\python\\python312\\lib\\site-packages (from tensorflow-intel==2.18.0->tensorflow<2.19,>=2.18->tf-keras) (0.5.4)\n",
      "Requirement already satisfied: google-pasta>=0.1.1 in c:\\users\\deshr\\appdata\\local\\programs\\python\\python312\\lib\\site-packages (from tensorflow-intel==2.18.0->tensorflow<2.19,>=2.18->tf-keras) (0.2.0)\n",
      "Requirement already satisfied: libclang>=13.0.0 in c:\\users\\deshr\\appdata\\local\\programs\\python\\python312\\lib\\site-packages (from tensorflow-intel==2.18.0->tensorflow<2.19,>=2.18->tf-keras) (18.1.1)\n",
      "Requirement already satisfied: opt-einsum>=2.3.2 in c:\\users\\deshr\\appdata\\local\\programs\\python\\python312\\lib\\site-packages (from tensorflow-intel==2.18.0->tensorflow<2.19,>=2.18->tf-keras) (3.3.0)\n",
      "Requirement already satisfied: packaging in c:\\users\\deshr\\appdata\\local\\programs\\python\\python312\\lib\\site-packages (from tensorflow-intel==2.18.0->tensorflow<2.19,>=2.18->tf-keras) (24.1)\n",
      "Requirement already satisfied: protobuf!=4.21.0,!=4.21.1,!=4.21.2,!=4.21.3,!=4.21.4,!=4.21.5,<6.0.0dev,>=3.20.3 in c:\\users\\deshr\\appdata\\local\\programs\\python\\python312\\lib\\site-packages (from tensorflow-intel==2.18.0->tensorflow<2.19,>=2.18->tf-keras) (4.25.5)\n",
      "Requirement already satisfied: requests<3,>=2.21.0 in c:\\users\\deshr\\appdata\\local\\programs\\python\\python312\\lib\\site-packages (from tensorflow-intel==2.18.0->tensorflow<2.19,>=2.18->tf-keras) (2.32.2)\n",
      "Requirement already satisfied: setuptools in c:\\users\\deshr\\appdata\\local\\programs\\python\\python312\\lib\\site-packages (from tensorflow-intel==2.18.0->tensorflow<2.19,>=2.18->tf-keras) (74.0.0)\n",
      "Requirement already satisfied: six>=1.12.0 in c:\\users\\deshr\\appdata\\roaming\\python\\python312\\site-packages (from tensorflow-intel==2.18.0->tensorflow<2.19,>=2.18->tf-keras) (1.16.0)\n",
      "Requirement already satisfied: termcolor>=1.1.0 in c:\\users\\deshr\\appdata\\local\\programs\\python\\python312\\lib\\site-packages (from tensorflow-intel==2.18.0->tensorflow<2.19,>=2.18->tf-keras) (2.4.0)\n",
      "Requirement already satisfied: typing-extensions>=3.6.6 in c:\\users\\deshr\\appdata\\local\\programs\\python\\python312\\lib\\site-packages (from tensorflow-intel==2.18.0->tensorflow<2.19,>=2.18->tf-keras) (4.11.0)\n",
      "Requirement already satisfied: wrapt>=1.11.0 in c:\\users\\deshr\\appdata\\local\\programs\\python\\python312\\lib\\site-packages (from tensorflow-intel==2.18.0->tensorflow<2.19,>=2.18->tf-keras) (1.16.0)\n",
      "Requirement already satisfied: grpcio<2.0,>=1.24.3 in c:\\users\\deshr\\appdata\\local\\programs\\python\\python312\\lib\\site-packages (from tensorflow-intel==2.18.0->tensorflow<2.19,>=2.18->tf-keras) (1.64.1)\n",
      "Collecting tensorboard<2.19,>=2.18 (from tensorflow-intel==2.18.0->tensorflow<2.19,>=2.18->tf-keras)\n",
      "  Downloading tensorboard-2.18.0-py3-none-any.whl.metadata (1.6 kB)\n",
      "Collecting keras>=3.5.0 (from tensorflow-intel==2.18.0->tensorflow<2.19,>=2.18->tf-keras)\n",
      "  Using cached keras-3.6.0-py3-none-any.whl.metadata (5.8 kB)\n",
      "Requirement already satisfied: numpy<2.1.0,>=1.26.0 in c:\\users\\deshr\\appdata\\local\\programs\\python\\python312\\lib\\site-packages (from tensorflow-intel==2.18.0->tensorflow<2.19,>=2.18->tf-keras) (1.26.4)\n",
      "Requirement already satisfied: h5py>=3.11.0 in c:\\users\\deshr\\appdata\\local\\programs\\python\\python312\\lib\\site-packages (from tensorflow-intel==2.18.0->tensorflow<2.19,>=2.18->tf-keras) (3.11.0)\n",
      "Collecting ml-dtypes<0.5.0,>=0.4.0 (from tensorflow-intel==2.18.0->tensorflow<2.19,>=2.18->tf-keras)\n",
      "  Using cached ml_dtypes-0.4.1-cp312-cp312-win_amd64.whl.metadata (20 kB)\n",
      "Requirement already satisfied: wheel<1.0,>=0.23.0 in c:\\users\\deshr\\appdata\\local\\programs\\python\\python312\\lib\\site-packages (from astunparse>=1.6.0->tensorflow-intel==2.18.0->tensorflow<2.19,>=2.18->tf-keras) (0.44.0)\n",
      "Requirement already satisfied: rich in c:\\users\\deshr\\appdata\\local\\programs\\python\\python312\\lib\\site-packages (from keras>=3.5.0->tensorflow-intel==2.18.0->tensorflow<2.19,>=2.18->tf-keras) (13.7.1)\n",
      "Requirement already satisfied: namex in c:\\users\\deshr\\appdata\\local\\programs\\python\\python312\\lib\\site-packages (from keras>=3.5.0->tensorflow-intel==2.18.0->tensorflow<2.19,>=2.18->tf-keras) (0.0.8)\n",
      "Requirement already satisfied: optree in c:\\users\\deshr\\appdata\\local\\programs\\python\\python312\\lib\\site-packages (from keras>=3.5.0->tensorflow-intel==2.18.0->tensorflow<2.19,>=2.18->tf-keras) (0.11.0)\n",
      "Requirement already satisfied: charset-normalizer<4,>=2 in c:\\users\\deshr\\appdata\\local\\programs\\python\\python312\\lib\\site-packages (from requests<3,>=2.21.0->tensorflow-intel==2.18.0->tensorflow<2.19,>=2.18->tf-keras) (3.3.2)\n",
      "Requirement already satisfied: idna<4,>=2.5 in c:\\users\\deshr\\appdata\\local\\programs\\python\\python312\\lib\\site-packages (from requests<3,>=2.21.0->tensorflow-intel==2.18.0->tensorflow<2.19,>=2.18->tf-keras) (3.7)\n",
      "Requirement already satisfied: urllib3<3,>=1.21.1 in c:\\users\\deshr\\appdata\\local\\programs\\python\\python312\\lib\\site-packages (from requests<3,>=2.21.0->tensorflow-intel==2.18.0->tensorflow<2.19,>=2.18->tf-keras) (2.2.1)\n",
      "Requirement already satisfied: certifi>=2017.4.17 in c:\\users\\deshr\\appdata\\local\\programs\\python\\python312\\lib\\site-packages (from requests<3,>=2.21.0->tensorflow-intel==2.18.0->tensorflow<2.19,>=2.18->tf-keras) (2024.2.2)\n",
      "Requirement already satisfied: markdown>=2.6.8 in c:\\users\\deshr\\appdata\\local\\programs\\python\\python312\\lib\\site-packages (from tensorboard<2.19,>=2.18->tensorflow-intel==2.18.0->tensorflow<2.19,>=2.18->tf-keras) (3.6)\n",
      "Requirement already satisfied: tensorboard-data-server<0.8.0,>=0.7.0 in c:\\users\\deshr\\appdata\\local\\programs\\python\\python312\\lib\\site-packages (from tensorboard<2.19,>=2.18->tensorflow-intel==2.18.0->tensorflow<2.19,>=2.18->tf-keras) (0.7.2)\n",
      "Requirement already satisfied: werkzeug>=1.0.1 in c:\\users\\deshr\\appdata\\local\\programs\\python\\python312\\lib\\site-packages (from tensorboard<2.19,>=2.18->tensorflow-intel==2.18.0->tensorflow<2.19,>=2.18->tf-keras) (2.0.1)\n",
      "Requirement already satisfied: markdown-it-py>=2.2.0 in c:\\users\\deshr\\appdata\\local\\programs\\python\\python312\\lib\\site-packages (from rich->keras>=3.5.0->tensorflow-intel==2.18.0->tensorflow<2.19,>=2.18->tf-keras) (3.0.0)\n",
      "Requirement already satisfied: pygments<3.0.0,>=2.13.0 in c:\\users\\deshr\\appdata\\roaming\\python\\python312\\site-packages (from rich->keras>=3.5.0->tensorflow-intel==2.18.0->tensorflow<2.19,>=2.18->tf-keras) (2.17.2)\n",
      "Requirement already satisfied: mdurl~=0.1 in c:\\users\\deshr\\appdata\\local\\programs\\python\\python312\\lib\\site-packages (from markdown-it-py>=2.2.0->rich->keras>=3.5.0->tensorflow-intel==2.18.0->tensorflow<2.19,>=2.18->tf-keras) (0.1.2)\n",
      "Downloading tf_keras-2.18.0-py3-none-any.whl (1.7 MB)\n",
      "   ---------------------------------------- 0.0/1.7 MB ? eta -:--:--\n",
      "   ------------ --------------------------- 0.5/1.7 MB 4.2 MB/s eta 0:00:01\n",
      "   ------------------------------ --------- 1.3/1.7 MB 3.5 MB/s eta 0:00:01\n",
      "   ---------------------------------------- 1.7/1.7 MB 3.6 MB/s eta 0:00:00\n",
      "Downloading tensorflow-2.18.0-cp312-cp312-win_amd64.whl (7.5 kB)\n",
      "Downloading tensorflow_intel-2.18.0-cp312-cp312-win_amd64.whl (390.3 MB)\n",
      "   ---------------------------------------- 0.0/390.3 MB ? eta -:--:--\n",
      "   ---------------------------------------- 1.0/390.3 MB 5.0 MB/s eta 0:01:18\n",
      "   ---------------------------------------- 1.6/390.3 MB 3.8 MB/s eta 0:01:42\n",
      "   ---------------------------------------- 2.4/390.3 MB 3.8 MB/s eta 0:01:41\n",
      "   ---------------------------------------- 3.4/390.3 MB 4.3 MB/s eta 0:01:31\n",
      "   ---------------------------------------- 4.5/390.3 MB 4.5 MB/s eta 0:01:27\n",
      "    --------------------------------------- 5.8/390.3 MB 4.5 MB/s eta 0:01:26\n",
      "    --------------------------------------- 7.1/390.3 MB 4.7 MB/s eta 0:01:21\n",
      "    --------------------------------------- 7.9/390.3 MB 4.8 MB/s eta 0:01:21\n",
      "    --------------------------------------- 8.9/390.3 MB 4.8 MB/s eta 0:01:20\n",
      "   - -------------------------------------- 10.2/390.3 MB 4.9 MB/s eta 0:01:19\n",
      "   - -------------------------------------- 11.3/390.3 MB 4.9 MB/s eta 0:01:18\n",
      "   - -------------------------------------- 12.3/390.3 MB 4.9 MB/s eta 0:01:17\n",
      "   - -------------------------------------- 13.1/390.3 MB 5.0 MB/s eta 0:01:17\n",
      "   - -------------------------------------- 14.2/390.3 MB 4.8 MB/s eta 0:01:19\n",
      "   - -------------------------------------- 14.9/390.3 MB 4.8 MB/s eta 0:01:18\n",
      "   - -------------------------------------- 15.5/390.3 MB 4.6 MB/s eta 0:01:22\n",
      "   - -------------------------------------- 16.3/390.3 MB 4.5 MB/s eta 0:01:23\n",
      "   - -------------------------------------- 17.6/390.3 MB 4.6 MB/s eta 0:01:21\n",
      "   - -------------------------------------- 18.6/390.3 MB 4.7 MB/s eta 0:01:20\n",
      "   -- ------------------------------------- 20.7/390.3 MB 4.9 MB/s eta 0:01:15\n",
      "   -- ------------------------------------- 22.3/390.3 MB 5.1 MB/s eta 0:01:13\n",
      "   -- ------------------------------------- 24.4/390.3 MB 5.3 MB/s eta 0:01:10\n",
      "   -- ------------------------------------- 26.2/390.3 MB 5.4 MB/s eta 0:01:08\n",
      "   -- ------------------------------------- 28.3/390.3 MB 5.6 MB/s eta 0:01:05\n",
      "   --- ------------------------------------ 30.9/390.3 MB 5.9 MB/s eta 0:01:01\n",
      "   --- ------------------------------------ 33.0/390.3 MB 6.1 MB/s eta 0:00:59\n",
      "   --- ------------------------------------ 35.1/390.3 MB 6.2 MB/s eta 0:00:58\n",
      "   --- ------------------------------------ 37.5/390.3 MB 6.4 MB/s eta 0:00:55\n",
      "   --- ------------------------------------ 37.7/390.3 MB 6.2 MB/s eta 0:00:57\n",
      "   ---- ----------------------------------- 39.8/390.3 MB 6.3 MB/s eta 0:00:56\n",
      "   ---- ----------------------------------- 40.4/390.3 MB 6.4 MB/s eta 0:00:56\n",
      "   ---- ----------------------------------- 41.7/390.3 MB 6.2 MB/s eta 0:00:57\n",
      "   ---- ----------------------------------- 43.5/390.3 MB 6.3 MB/s eta 0:00:55\n",
      "   ---- ----------------------------------- 43.5/390.3 MB 6.3 MB/s eta 0:00:55\n",
      "   ---- ----------------------------------- 44.6/390.3 MB 6.1 MB/s eta 0:00:57\n",
      "   ---- ----------------------------------- 44.8/390.3 MB 6.0 MB/s eta 0:00:58\n",
      "   ---- ----------------------------------- 44.8/390.3 MB 6.0 MB/s eta 0:00:58\n",
      "   ---- ----------------------------------- 45.9/390.3 MB 5.8 MB/s eta 0:01:00\n",
      "   ---- ----------------------------------- 45.9/390.3 MB 5.8 MB/s eta 0:01:00\n",
      "   ---- ----------------------------------- 46.1/390.3 MB 5.5 MB/s eta 0:01:03\n",
      "   ---- ----------------------------------- 47.2/390.3 MB 5.5 MB/s eta 0:01:03\n",
      "   ---- ----------------------------------- 47.4/390.3 MB 5.4 MB/s eta 0:01:04\n",
      "   ---- ----------------------------------- 48.2/390.3 MB 5.3 MB/s eta 0:01:05\n",
      "   ---- ----------------------------------- 48.2/390.3 MB 5.3 MB/s eta 0:01:05\n",
      "   ----- ---------------------------------- 49.8/390.3 MB 5.3 MB/s eta 0:01:05\n",
      "   ----- ---------------------------------- 50.6/390.3 MB 5.3 MB/s eta 0:01:05\n",
      "   ----- ---------------------------------- 51.4/390.3 MB 5.2 MB/s eta 0:01:06\n",
      "   ----- ---------------------------------- 52.2/390.3 MB 5.2 MB/s eta 0:01:06\n",
      "   ----- ---------------------------------- 52.2/390.3 MB 5.2 MB/s eta 0:01:06\n",
      "   ----- ---------------------------------- 52.7/390.3 MB 5.0 MB/s eta 0:01:08\n",
      "   ----- ---------------------------------- 53.5/390.3 MB 5.0 MB/s eta 0:01:07\n",
      "   ----- ---------------------------------- 53.7/390.3 MB 4.9 MB/s eta 0:01:09\n",
      "   ----- ---------------------------------- 55.1/390.3 MB 4.9 MB/s eta 0:01:09\n",
      "   ----- ---------------------------------- 55.1/390.3 MB 4.9 MB/s eta 0:01:09\n",
      "   ----- ---------------------------------- 56.1/390.3 MB 4.8 MB/s eta 0:01:10\n",
      "   ----- ---------------------------------- 56.4/390.3 MB 4.8 MB/s eta 0:01:10\n",
      "   ----- ---------------------------------- 57.9/390.3 MB 4.8 MB/s eta 0:01:10\n",
      "   ------ --------------------------------- 60.3/390.3 MB 4.9 MB/s eta 0:01:08\n",
      "   ------ --------------------------------- 62.7/390.3 MB 5.0 MB/s eta 0:01:06\n",
      "   ------ --------------------------------- 64.7/390.3 MB 5.1 MB/s eta 0:01:04\n",
      "   ------ --------------------------------- 67.6/390.3 MB 5.2 MB/s eta 0:01:02\n",
      "   ------- -------------------------------- 70.0/390.3 MB 5.4 MB/s eta 0:01:00\n",
      "   ------- -------------------------------- 72.4/390.3 MB 5.4 MB/s eta 0:00:59\n",
      "   ------- -------------------------------- 74.7/390.3 MB 5.5 MB/s eta 0:00:58\n",
      "   ------- -------------------------------- 77.1/390.3 MB 5.6 MB/s eta 0:00:56\n",
      "   -------- ------------------------------- 79.4/390.3 MB 5.7 MB/s eta 0:00:55\n",
      "   -------- ------------------------------- 82.1/390.3 MB 5.8 MB/s eta 0:00:54\n",
      "   -------- ------------------------------- 84.7/390.3 MB 5.9 MB/s eta 0:00:52\n",
      "   -------- ------------------------------- 86.8/390.3 MB 6.0 MB/s eta 0:00:51\n",
      "   --------- ------------------------------ 88.6/390.3 MB 6.0 MB/s eta 0:00:51\n",
      "   --------- ------------------------------ 91.0/390.3 MB 6.1 MB/s eta 0:00:50\n",
      "   --------- ------------------------------ 93.3/390.3 MB 6.2 MB/s eta 0:00:49\n",
      "   --------- ------------------------------ 95.7/390.3 MB 6.2 MB/s eta 0:00:48\n",
      "   ---------- ----------------------------- 98.6/390.3 MB 6.3 MB/s eta 0:00:47\n",
      "   ---------- ----------------------------- 100.9/390.3 MB 6.4 MB/s eta 0:00:46\n",
      "   ---------- ----------------------------- 103.0/390.3 MB 6.4 MB/s eta 0:00:45\n",
      "   ---------- ----------------------------- 105.9/390.3 MB 6.5 MB/s eta 0:00:44\n",
      "   ----------- ---------------------------- 108.3/390.3 MB 6.6 MB/s eta 0:00:43\n",
      "   ----------- ---------------------------- 110.9/390.3 MB 6.7 MB/s eta 0:00:42\n",
      "   ----------- ---------------------------- 113.5/390.3 MB 6.7 MB/s eta 0:00:42\n",
      "   ----------- ---------------------------- 116.4/390.3 MB 6.8 MB/s eta 0:00:41\n",
      "   ------------ --------------------------- 118.8/390.3 MB 6.9 MB/s eta 0:00:40\n",
      "   ------------ --------------------------- 121.4/390.3 MB 6.9 MB/s eta 0:00:39\n",
      "   ------------ --------------------------- 124.0/390.3 MB 7.0 MB/s eta 0:00:39\n",
      "   ------------ --------------------------- 126.4/390.3 MB 7.0 MB/s eta 0:00:38\n",
      "   ------------- -------------------------- 129.0/390.3 MB 7.1 MB/s eta 0:00:37\n",
      "   ------------- -------------------------- 131.6/390.3 MB 7.2 MB/s eta 0:00:37\n",
      "   ------------- -------------------------- 133.7/390.3 MB 7.2 MB/s eta 0:00:36\n",
      "   ------------- -------------------------- 136.3/390.3 MB 7.3 MB/s eta 0:00:35\n",
      "   -------------- ------------------------- 138.9/390.3 MB 7.3 MB/s eta 0:00:35\n",
      "   -------------- ------------------------- 141.0/390.3 MB 7.3 MB/s eta 0:00:34\n",
      "   -------------- ------------------------- 143.1/390.3 MB 7.4 MB/s eta 0:00:34\n",
      "   -------------- ------------------------- 145.0/390.3 MB 7.4 MB/s eta 0:00:34\n",
      "   --------------- ------------------------ 147.6/390.3 MB 7.4 MB/s eta 0:00:33\n",
      "   --------------- ------------------------ 150.2/390.3 MB 7.5 MB/s eta 0:00:33\n",
      "   --------------- ------------------------ 153.1/390.3 MB 7.5 MB/s eta 0:00:32\n",
      "   --------------- ------------------------ 155.2/390.3 MB 7.6 MB/s eta 0:00:32\n",
      "   ---------------- ----------------------- 158.1/390.3 MB 7.6 MB/s eta 0:00:31\n",
      "   ---------------- ----------------------- 160.4/390.3 MB 7.7 MB/s eta 0:00:30\n",
      "   ---------------- ----------------------- 162.0/390.3 MB 7.7 MB/s eta 0:00:30\n",
      "   ---------------- ----------------------- 164.4/390.3 MB 7.7 MB/s eta 0:00:30\n",
      "   ----------------- ---------------------- 166.7/390.3 MB 7.7 MB/s eta 0:00:29\n",
      "   ----------------- ---------------------- 169.1/390.3 MB 7.8 MB/s eta 0:00:29\n",
      "   ----------------- ---------------------- 170.9/390.3 MB 7.8 MB/s eta 0:00:29\n",
      "   ----------------- ---------------------- 173.5/390.3 MB 7.8 MB/s eta 0:00:28\n",
      "   ------------------ --------------------- 175.6/390.3 MB 7.8 MB/s eta 0:00:28\n",
      "   ------------------ --------------------- 178.3/390.3 MB 7.9 MB/s eta 0:00:28\n",
      "   ------------------ --------------------- 180.9/390.3 MB 7.9 MB/s eta 0:00:27\n",
      "   ------------------ --------------------- 183.2/390.3 MB 7.9 MB/s eta 0:00:27\n",
      "   ------------------- -------------------- 186.1/390.3 MB 8.0 MB/s eta 0:00:26\n",
      "   ------------------- -------------------- 188.5/390.3 MB 8.0 MB/s eta 0:00:26\n",
      "   ------------------- -------------------- 191.4/390.3 MB 8.0 MB/s eta 0:00:25\n",
      "   ------------------- -------------------- 193.7/390.3 MB 8.1 MB/s eta 0:00:25\n",
      "   -------------------- ------------------- 196.3/390.3 MB 8.1 MB/s eta 0:00:24\n",
      "   -------------------- ------------------- 199.2/390.3 MB 8.1 MB/s eta 0:00:24\n",
      "   -------------------- ------------------- 201.6/390.3 MB 8.2 MB/s eta 0:00:24\n",
      "   -------------------- ------------------- 203.7/390.3 MB 8.2 MB/s eta 0:00:23\n",
      "   --------------------- ------------------ 206.3/390.3 MB 8.2 MB/s eta 0:00:23\n",
      "   --------------------- ------------------ 209.2/390.3 MB 8.3 MB/s eta 0:00:22\n",
      "   --------------------- ------------------ 211.8/390.3 MB 8.3 MB/s eta 0:00:22\n",
      "   --------------------- ------------------ 213.9/390.3 MB 8.3 MB/s eta 0:00:22\n",
      "   ---------------------- ----------------- 216.0/390.3 MB 8.3 MB/s eta 0:00:21\n",
      "   ---------------------- ----------------- 218.6/390.3 MB 8.4 MB/s eta 0:00:21\n",
      "   ---------------------- ----------------- 221.2/390.3 MB 8.4 MB/s eta 0:00:21\n",
      "   ---------------------- ----------------- 223.9/390.3 MB 8.4 MB/s eta 0:00:20\n",
      "   ----------------------- ---------------- 226.8/390.3 MB 8.5 MB/s eta 0:00:20\n",
      "   ----------------------- ---------------- 229.1/390.3 MB 8.5 MB/s eta 0:00:19\n",
      "   ----------------------- ---------------- 231.7/390.3 MB 8.5 MB/s eta 0:00:19\n",
      "   ------------------------ --------------- 234.4/390.3 MB 8.5 MB/s eta 0:00:19\n",
      "   ------------------------ --------------- 237.2/390.3 MB 8.6 MB/s eta 0:00:18\n",
      "   ------------------------ --------------- 240.1/390.3 MB 8.6 MB/s eta 0:00:18\n",
      "   ------------------------ --------------- 242.7/390.3 MB 8.6 MB/s eta 0:00:18\n",
      "   ------------------------- -------------- 244.8/390.3 MB 8.7 MB/s eta 0:00:17\n",
      "   ------------------------- -------------- 247.7/390.3 MB 8.7 MB/s eta 0:00:17\n",
      "   ------------------------- -------------- 250.3/390.3 MB 8.7 MB/s eta 0:00:17\n",
      "   ------------------------- -------------- 253.0/390.3 MB 8.7 MB/s eta 0:00:16\n",
      "   -------------------------- ------------- 255.6/390.3 MB 8.8 MB/s eta 0:00:16\n",
      "   -------------------------- ------------- 258.2/390.3 MB 8.8 MB/s eta 0:00:16\n",
      "   -------------------------- ------------- 261.1/390.3 MB 8.8 MB/s eta 0:00:15\n",
      "   --------------------------- ------------ 263.7/390.3 MB 8.9 MB/s eta 0:00:15\n",
      "   --------------------------- ------------ 266.1/390.3 MB 9.0 MB/s eta 0:00:14\n",
      "   --------------------------- ------------ 269.0/390.3 MB 9.1 MB/s eta 0:00:14\n",
      "   --------------------------- ------------ 271.3/390.3 MB 9.2 MB/s eta 0:00:13\n",
      "   ---------------------------- ----------- 273.9/390.3 MB 9.3 MB/s eta 0:00:13\n",
      "   ---------------------------- ----------- 276.3/390.3 MB 9.4 MB/s eta 0:00:13\n",
      "   ---------------------------- ----------- 278.9/390.3 MB 9.6 MB/s eta 0:00:12\n",
      "   ---------------------------- ----------- 281.8/390.3 MB 9.6 MB/s eta 0:00:12\n",
      "   ----------------------------- ---------- 283.9/390.3 MB 9.7 MB/s eta 0:00:12\n",
      "   ----------------------------- ---------- 286.3/390.3 MB 9.7 MB/s eta 0:00:11\n",
      "   ----------------------------- ---------- 289.1/390.3 MB 9.7 MB/s eta 0:00:11\n",
      "   ----------------------------- ---------- 292.0/390.3 MB 9.7 MB/s eta 0:00:11\n",
      "   ------------------------------ --------- 294.4/390.3 MB 9.7 MB/s eta 0:00:10\n",
      "   ------------------------------ --------- 297.0/390.3 MB 9.7 MB/s eta 0:00:10\n",
      "   ------------------------------ --------- 299.6/390.3 MB 9.8 MB/s eta 0:00:10\n",
      "   ------------------------------ --------- 302.3/390.3 MB 9.8 MB/s eta 0:00:09\n",
      "   ------------------------------- -------- 305.1/390.3 MB 9.9 MB/s eta 0:00:09\n",
      "   ------------------------------ -------- 307.5/390.3 MB 10.2 MB/s eta 0:00:09\n",
      "   ------------------------------ -------- 310.1/390.3 MB 10.6 MB/s eta 0:00:08\n",
      "   ------------------------------- ------- 313.0/390.3 MB 10.9 MB/s eta 0:00:08\n",
      "   ------------------------------- ------- 315.6/390.3 MB 11.3 MB/s eta 0:00:07\n",
      "   ------------------------------- ------- 318.0/390.3 MB 11.5 MB/s eta 0:00:07\n",
      "   -------------------------------- ------ 320.3/390.3 MB 11.7 MB/s eta 0:00:06\n",
      "   -------------------------------- ------ 323.0/390.3 MB 11.7 MB/s eta 0:00:06\n",
      "   -------------------------------- ------ 326.1/390.3 MB 11.7 MB/s eta 0:00:06\n",
      "   -------------------------------- ------ 328.7/390.3 MB 11.7 MB/s eta 0:00:06\n",
      "   --------------------------------- ----- 331.1/390.3 MB 11.7 MB/s eta 0:00:06\n",
      "   --------------------------------- ----- 334.0/390.3 MB 11.7 MB/s eta 0:00:05\n",
      "   --------------------------------- ----- 336.3/390.3 MB 11.7 MB/s eta 0:00:05\n",
      "   --------------------------------- ----- 339.5/390.3 MB 11.8 MB/s eta 0:00:05\n",
      "   ---------------------------------- ---- 342.1/390.3 MB 11.8 MB/s eta 0:00:05\n",
      "   ---------------------------------- ---- 344.7/390.3 MB 11.8 MB/s eta 0:00:04\n",
      "   ---------------------------------- ---- 347.1/390.3 MB 11.7 MB/s eta 0:00:04\n",
      "   ---------------------------------- ---- 349.4/390.3 MB 11.7 MB/s eta 0:00:04\n",
      "   ----------------------------------- --- 351.8/390.3 MB 11.8 MB/s eta 0:00:04\n",
      "   ----------------------------------- --- 354.2/390.3 MB 11.8 MB/s eta 0:00:04\n",
      "   ----------------------------------- --- 356.8/390.3 MB 11.8 MB/s eta 0:00:03\n",
      "   ----------------------------------- --- 359.4/390.3 MB 11.8 MB/s eta 0:00:03\n",
      "   ------------------------------------ -- 362.0/390.3 MB 11.8 MB/s eta 0:00:03\n",
      "   ------------------------------------ -- 364.6/390.3 MB 11.8 MB/s eta 0:00:03\n",
      "   ------------------------------------ -- 367.8/390.3 MB 11.8 MB/s eta 0:00:02\n",
      "   ------------------------------------ -- 370.1/390.3 MB 11.8 MB/s eta 0:00:02\n",
      "   ------------------------------------- - 372.0/390.3 MB 11.8 MB/s eta 0:00:02\n",
      "   ------------------------------------- - 374.6/390.3 MB 11.8 MB/s eta 0:00:02\n",
      "   ------------------------------------- - 377.7/390.3 MB 11.8 MB/s eta 0:00:02\n",
      "   ------------------------------------- - 380.1/390.3 MB 11.8 MB/s eta 0:00:01\n",
      "   --------------------------------------  382.7/390.3 MB 11.8 MB/s eta 0:00:01\n",
      "   --------------------------------------  385.1/390.3 MB 11.8 MB/s eta 0:00:01\n",
      "   --------------------------------------  387.7/390.3 MB 11.8 MB/s eta 0:00:01\n",
      "   --------------------------------------  390.1/390.3 MB 11.8 MB/s eta 0:00:01\n",
      "   --------------------------------------  390.1/390.3 MB 11.8 MB/s eta 0:00:01\n",
      "   --------------------------------------  390.1/390.3 MB 11.8 MB/s eta 0:00:01\n",
      "   --------------------------------------  390.1/390.3 MB 11.8 MB/s eta 0:00:01\n",
      "   --------------------------------------- 390.3/390.3 MB 11.4 MB/s eta 0:00:00\n",
      "Using cached keras-3.6.0-py3-none-any.whl (1.2 MB)\n",
      "Using cached ml_dtypes-0.4.1-cp312-cp312-win_amd64.whl (127 kB)\n",
      "Downloading tensorboard-2.18.0-py3-none-any.whl (5.5 MB)\n",
      "   ---------------------------------------- 0.0/5.5 MB ? eta -:--:--\n",
      "   ----------------- ---------------------- 2.4/5.5 MB 13.4 MB/s eta 0:00:01\n",
      "   ------------------------------------ --- 5.0/5.5 MB 12.6 MB/s eta 0:00:01\n",
      "   ---------------------------------------- 5.5/5.5 MB 11.5 MB/s eta 0:00:00\n",
      "Installing collected packages: tensorboard, ml-dtypes, keras, tensorflow-intel, tensorflow, tf-keras\n",
      "  Attempting uninstall: tensorboard\n",
      "    Found existing installation: tensorboard 2.17.1\n",
      "    Uninstalling tensorboard-2.17.1:\n",
      "      Successfully uninstalled tensorboard-2.17.1\n",
      "  Attempting uninstall: ml-dtypes\n",
      "    Found existing installation: ml-dtypes 0.3.2\n",
      "    Uninstalling ml-dtypes-0.3.2:\n",
      "      Successfully uninstalled ml-dtypes-0.3.2\n",
      "  Attempting uninstall: keras\n",
      "    Found existing installation: keras 3.3.3\n",
      "    Uninstalling keras-3.3.3:\n",
      "      Successfully uninstalled keras-3.3.3\n",
      "  Attempting uninstall: tensorflow-intel\n",
      "    Found existing installation: tensorflow-intel 2.17.0\n",
      "    Uninstalling tensorflow-intel-2.17.0:\n",
      "      Successfully uninstalled tensorflow-intel-2.17.0\n",
      "  Attempting uninstall: tensorflow\n",
      "    Found existing installation: tensorflow 2.17.0\n",
      "    Uninstalling tensorflow-2.17.0:\n",
      "      Successfully uninstalled tensorflow-2.17.0\n",
      "Successfully installed keras-3.6.0 ml-dtypes-0.4.1 tensorboard-2.18.0 tensorflow-2.18.0 tensorflow-intel-2.18.0 tf-keras-2.18.0\n"
     ]
    },
    {
     "name": "stderr",
     "output_type": "stream",
     "text": [
      "  WARNING: Failed to remove contents in a temporary directory 'C:\\Users\\deshr\\AppData\\Local\\Programs\\Python\\Python312\\Lib\\site-packages\\~l_dtypes'.\n",
      "  You can safely remove it manually.\n",
      "  WARNING: Failed to remove contents in a temporary directory 'C:\\Users\\deshr\\AppData\\Local\\Programs\\Python\\Python312\\Lib\\site-packages\\~-nsorflow'.\n",
      "  You can safely remove it manually.\n",
      "\n",
      "[notice] A new release of pip is available: 24.2 -> 24.3.1\n",
      "[notice] To update, run: python.exe -m pip install --upgrade pip\n"
     ]
    }
   ],
   "source": [
    "!pip install tf-keras"
   ]
  },
  {
   "cell_type": "code",
   "execution_count": null,
   "id": "51288fb0-62e7-4ce3-973a-386f28a6431e",
   "metadata": {},
   "outputs": [],
   "source": []
  }
 ],
 "metadata": {
  "kernelspec": {
   "display_name": "Python 3 (ipykernel)",
   "language": "python",
   "name": "python3"
  },
  "language_info": {
   "codemirror_mode": {
    "name": "ipython",
    "version": 3
   },
   "file_extension": ".py",
   "mimetype": "text/x-python",
   "name": "python",
   "nbconvert_exporter": "python",
   "pygments_lexer": "ipython3",
   "version": "3.12.4"
  }
 },
 "nbformat": 4,
 "nbformat_minor": 5
}
