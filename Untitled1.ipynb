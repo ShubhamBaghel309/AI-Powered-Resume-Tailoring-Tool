{
 "cells": [
  {
   "cell_type": "code",
   "execution_count": 1,
   "id": "9d3cd796-855a-403a-80c5-b0d6685059a4",
   "metadata": {},
   "outputs": [
    {
     "name": "stdout",
     "output_type": "stream",
     "text": [
      "The first person to land on the moon was Neil Armstrong. He stepped out of the lunar module Eagle and onto the moon's surface on July 20, 1969.\n",
      "\n",
      "The second person to walk on the moon was Edwin \"Buzz\" Aldrin. He joined Neil Armstrong on the moon's surface shortly after Armstrong's historic first steps.\n"
     ]
    }
   ],
   "source": [
    "from langchain_groq import ChatGroq\n",
    "\n",
    "llm = ChatGroq(\n",
    "    model=\"llama-3.1-70b-versatile\",\n",
    "    groq_api_key=\"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\",\n",
    "    temperature=0,\n",
    "    max_tokens=None,\n",
    "    timeout=None,\n",
    "    max_retries=2,\n",
    "    # other params...\n",
    ")\n",
    "response=llm.invoke(\"The first person to land on the moon was and who was second?\")\n",
    "print(response.content)"
   ]
  },
  {
   "cell_type": "code",
   "execution_count": 3,
   "id": "b7baeec1-205d-4c68-9f4c-0ddd5b19fb44",
   "metadata": {},
   "outputs": [
    {
     "name": "stderr",
     "output_type": "stream",
     "text": [
      "USER_AGENT environment variable not set, consider setting it to identify your requests.\n"
     ]
    },
    {
     "name": "stdout",
     "output_type": "stream",
     "text": [
      "\n",
      "\n",
      "\n",
      "\n",
      "SEC.gov | Request Rate Threshold Exceeded\n",
      "\n",
      "\n",
      "\n",
      "U.S. Securities and Exchange Commission\n",
      "\n",
      "Automated access to our sites must comply with SEC.gov's Privacy and Security Policy.\n",
      "Please visit www.sec.gov/developer for more developer resources and Fair Access guidelines.\n",
      "Please visit www.sec.gov/privacy for more information on Privacy Policy.\n",
      "Reference ID: 0.b6752c31.1731693290.915e6e6\n",
      "\n",
      "\n",
      "\n"
     ]
    }
   ],
   "source": [
    "from langchain_community.document_loaders import WebBaseLoader\n",
    "\n",
    "loader = WebBaseLoader(\"https://www.sec.gov/ix?doc=/Archives/edgar/data/0000320193/000032019323000106/aapl-20230930.htm\")\n",
    "page_data=loader.load().pop().page_content\n",
    "print(page_data)\n",
    "\n",
    "\n"
   ]
  },
  {
   "cell_type": "code",
   "execution_count": null,
   "id": "4fceb73b-21f6-4be4-9272-2c005a116da7",
   "metadata": {},
   "outputs": [],
   "source": []
  }
 ],
 "metadata": {
  "kernelspec": {
   "display_name": "Python 3 (ipykernel)",
   "language": "python",
   "name": "python3"
  },
  "language_info": {
   "codemirror_mode": {
    "name": "ipython",
    "version": 3
   },
   "file_extension": ".py",
   "mimetype": "text/x-python",
   "name": "python",
   "nbconvert_exporter": "python",
   "pygments_lexer": "ipython3",
   "version": "3.12.4"
  }
 },
 "nbformat": 4,
 "nbformat_minor": 5
}
